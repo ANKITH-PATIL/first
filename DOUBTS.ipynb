{
 "cells": [
  {
   "cell_type": "code",
   "execution_count": 1,
   "id": "6dbb06c7",
   "metadata": {},
   "outputs": [],
   "source": [
    "#KEEP ON ASKING TILL THE USER GIVES AN INTEGER INPUT\n",
    "\n",
    "\n",
    "def ask_int():\n",
    "    try:\n",
    "        a=int(input(\"enter a valid integer please\"))\n",
    "\n",
    "        if type(a)==int:\n",
    "            return \"yes this is an integer\",a\n",
    "    except Exception as e:\n",
    "        print(e)\n",
    "        ask_int()"
   ]
  },
  {
   "cell_type": "code",
   "execution_count": 2,
   "id": "a1b8ee4d",
   "metadata": {},
   "outputs": [
    {
     "name": "stdout",
     "output_type": "stream",
     "text": [
      "enter a valid integer pleasedwaef\n",
      "invalid literal for int() with base 10: 'dwaef'\n",
      "enter a valid integer pleasefeawe\n",
      "invalid literal for int() with base 10: 'feawe'\n",
      "enter a valid integer please6656\n"
     ]
    }
   ],
   "source": [
    "ask_int()"
   ]
  },
  {
   "cell_type": "code",
   "execution_count": 3,
   "id": "d3bc3f62",
   "metadata": {},
   "outputs": [],
   "source": [
    "#HERE EVEN THOUGH ITS ASKING THE USER TO ENTER A VALID INTEGER REPEATEDLY BUT IM UNABLE TO UNDERSTAND WHY IS THE OUTPUT NOT \n",
    "#RETURNING ME \"YES THIS IS AN INTEGER \"line WHEN I USE THE PRINT FUNCTION IT GIVES THE SENTENCE BUT NOT THRU \"RETURN\" FUNCTION"
   ]
  },
  {
   "cell_type": "code",
   "execution_count": null,
   "id": "b487b597",
   "metadata": {},
   "outputs": [],
   "source": []
  }
 ],
 "metadata": {
  "kernelspec": {
   "display_name": "Python 3 (ipykernel)",
   "language": "python",
   "name": "python3"
  },
  "language_info": {
   "codemirror_mode": {
    "name": "ipython",
    "version": 3
   },
   "file_extension": ".py",
   "mimetype": "text/x-python",
   "name": "python",
   "nbconvert_exporter": "python",
   "pygments_lexer": "ipython3",
   "version": "3.9.7"
  }
 },
 "nbformat": 4,
 "nbformat_minor": 5
}
